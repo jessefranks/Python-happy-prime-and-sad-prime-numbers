{
 "cells": [
  {
   "cell_type": "markdown",
   "metadata": {},
   "source": [
    "### This is a Python script that prints the first 100 prime numbers that are happy.\n",
    "\n",
    "### A happy number is a number defined by the following process: Starting with any positive integer, replace the number by the sum of the squares of its digits, and repeat the process until the number equals 1 (where it will stay), or it loops endlessly in a cycle which does not include 1. Those numbers for which this process ends in 1 are happy numbers.\n",
    "\n",
    "### A sad number is a number for which this process doesn't end in 1."
   ]
  },
  {
   "cell_type": "code",
   "execution_count": 1,
   "metadata": {},
   "outputs": [],
   "source": [
    "import sys\n",
    "import math"
   ]
  },
  {
   "cell_type": "code",
   "execution_count": 2,
   "metadata": {},
   "outputs": [],
   "source": [
    "def is_prime(num):\n",
    "    \"\"\"Returns True if number is a prime number. Otherwise False.\"\"\"\n",
    "    if isinstance(num, int) and num > 1: # Checks if num is of type int and greater than 1.\n",
    "        for ele in range(2, int(math.sqrt(num) + 1)): # Checks every number between 2 and sqrt(num) + 1.\n",
    "            if num % ele == 0:\n",
    "                return False\n",
    "        return True\n",
    "    else:\n",
    "        return False"
   ]
  },
  {
   "cell_type": "code",
   "execution_count": 3,
   "metadata": {},
   "outputs": [],
   "source": [
    "def is_happy(num, count = 0):\n",
    "   \"\"\"Returns True if number is a happy number. Otherwise False.\"\"\"\n",
    "   sum = 0\n",
    "   count # Counts depth of the recursive call.\n",
    "   if num == 1: # Base case.\n",
    "        return True\n",
    "        \n",
    "   else:\n",
    "        count += 1 # Keeps track of number of recursive calls.\n",
    "\n",
    "        if count > 50: # Assumes that a number with a list of more than 50 int is repeating and thus not happy. \n",
    "            return False\n",
    "\n",
    "        num_list = list(str(num)) # Converts num into list.\n",
    "\n",
    "        for x in range(len(num_list)):\n",
    "            sum = int(sum) + int(num_list[x]) * int(num_list[x]) # Squares and sums each digit of num.\n",
    "        \n",
    "        return is_happy(sum, count) # Recursive call to 'is_happy'."
   ]
  },
  {
   "cell_type": "code",
   "execution_count": 4,
   "metadata": {},
   "outputs": [],
   "source": [
    "def is_prime_and_is_happy(num):\n",
    "    \"\"\"Returns True if number is a prime number and a happy number. Otherwise False.\"\"\"\n",
    "    if is_prime(num) == True and is_happy(num) == True:\n",
    "        return True\n",
    "    else:\n",
    "        return False"
   ]
  },
  {
   "cell_type": "code",
   "execution_count": 34,
   "metadata": {},
   "outputs": [],
   "source": [
    "def happy_100_primes():\n",
    "    \"\"\"Returns list of first 100 happy primes.\"\"\"\n",
    "    happy_primes = []\n",
    "    num = 7 # 7 is first prime and happy number.\n",
    "    while len(happy_primes) <= 100:\n",
    "        if is_prime_and_is_happy(num) == True:\n",
    "            happy_primes.append(num)\n",
    "            print(str(num), end=\" \") # Prints list of nums both happy and prime.\n",
    "        num = num + 1"
   ]
  },
  {
   "cell_type": "code",
   "execution_count": 35,
   "metadata": {},
   "outputs": [],
   "source": [
    "def sad_100_primes():\n",
    "    \"\"\"Returns list of first 100 non-happy(sad) primes.\"\"\"\n",
    "    sad_primes = []\n",
    "    num = 2 # 2 is first sad prime.\n",
    "    while len(sad_primes) <= 100:\n",
    "        if is_prime(num) == True and is_happy(num) == False:\n",
    "            sad_primes.append(num)\n",
    "            print(str(num), end=\" \") # Prints list of nums both sad and prime.\n",
    "        num = num + 1"
   ]
  },
  {
   "cell_type": "code",
   "execution_count": 36,
   "metadata": {},
   "outputs": [
    {
     "name": "stdout",
     "output_type": "stream",
     "text": [
      " \n",
      "7 13 19 23 31 79 97 103 109 139 167 193 239 263 293 313 331 367 379 383 397 409 487 563 617 653 673 683 709 739 761 863 881 907 937 1009 1033 1039 1093 1151 1277 1303 1373 1427 1447 1481 1487 1511 1607 1663 1697 1733 1847 1933 2003 2039 2063 2111 2221 2309 2333 2339 2383 2393 2417 2557 2693 2741 2833 2851 2903 2963 3001 3019 3067 3079 3083 3109 3137 3209 3301 3313 3319 3323 3329 3331 3371 3391 3463 3607 3637 3643 3673 3709 3779 3797 3803 3823 3833 3907 3923  \n",
      " \n",
      "2 3 5 11 17 29 37 41 43 47 53 59 61 67 71 73 83 89 101 107 113 127 131 137 149 151 157 163 173 179 181 191 197 199 211 223 227 229 233 241 251 257 269 271 277 281 283 307 311 317 337 347 349 353 359 373 389 401 419 421 431 433 439 443 449 457 461 463 467 479 491 499 503 509 521 523 541 547 557 569 571 577 587 593 599 601 607 613 619 631 641 643 647 659 661 677 691 701 719 727 733 "
     ]
    }
   ],
   "source": [
    "# Test function calls.\n",
    "print(' ')\n",
    "happy_100_primes()\n",
    "print(' ')\n",
    "print(' ')\n",
    "sad_100_primes()"
   ]
  },
  {
   "cell_type": "code",
   "execution_count": null,
   "metadata": {},
   "outputs": [],
   "source": []
  }
 ],
 "metadata": {
  "kernelspec": {
   "display_name": "Python 3",
   "language": "python",
   "name": "python3"
  },
  "language_info": {
   "codemirror_mode": {
    "name": "ipython",
    "version": 3
   },
   "file_extension": ".py",
   "mimetype": "text/x-python",
   "name": "python",
   "nbconvert_exporter": "python",
   "pygments_lexer": "ipython3",
   "version": "3.7.1"
  }
 },
 "nbformat": 4,
 "nbformat_minor": 2
}
